{
  "nbformat": 4,
  "nbformat_minor": 0,
  "metadata": {
    "colab": {
      "provenance": []
    },
    "kernelspec": {
      "name": "python3",
      "display_name": "Python 3"
    },
    "language_info": {
      "name": "python"
    }
  },
  "cells": [
    {
      "cell_type": "markdown",
      "source": [
        "# Assignment\n",
        "\n",
        "**Submitted By:** Sakalya Mitra <br>\n",
        "**Email ID:** sakalyamitra@gmail.com <br>\n",
        "[Assignment Link](https://drive.google.com/file/d/1OaT4ekMvh8ooECconbd-YUR05iDZbMI0/view)"
      ],
      "metadata": {
        "id": "y3LnoCOupXgg"
      }
    },
    {
      "cell_type": "markdown",
      "source": [
        "## Question 1\n",
        "\n",
        "### What is a lambda function in Python, and how does it differ from a regular function?\n",
        "\n",
        "Answer:\n",
        "\n",
        "In Python, a lambda function is a **small anonymous function** that can be defined without a name. It is also known as an anonymous function because it does not require a def statement like a regular function. Instead, it is defined using the `lambda` keyword, followed by the function's parameters, a `colon`, and the expression to be evaluated.\n",
        "\n",
        "Syntax\n",
        "\n",
        "> `lambda(keyword) function params: function body`\n",
        "\n",
        "\n",
        "The key difference between a lambda function and a regular function is that lambda functions are limited in functionality and designed to be simple and concise. They are typically used for one-line functions where a full function definition is unnecessary."
      ],
      "metadata": {
        "id": "g7ThfcdcpXuH"
      }
    },
    {
      "cell_type": "markdown",
      "source": [
        "## Question 2\n",
        "\n",
        "### Can a lambda function in Python have multiple arguments? If yes, how can you define and use them?\n",
        "\n",
        "Answer:\n",
        "\n",
        "Yes, a lambda function in Python can have multiple arguments. To define multiple arguments in a lambda function, we separate them with commas, just like in a regular function. Here's an example of a lambda function with multiple arguments:\n",
        "```\n",
        "multiply = lambda x, y: x * y\n",
        "```\n",
        "\n",
        "In this example, the lambda function takes two arguments, x and y, and returns their product.\n",
        "\n",
        "To use the lambda function with multiple arguments, we simply call it and provide the values for each argument. For instance:\n",
        "```\n",
        "result = multiply(3, 4)\n",
        "print(result)  # Output: 12\n",
        "```"
      ],
      "metadata": {
        "id": "819gEwPIp322"
      }
    },
    {
      "cell_type": "code",
      "execution_count": 1,
      "metadata": {
        "colab": {
          "base_uri": "https://localhost:8080/"
        },
        "id": "OWo_JSqvmCPw",
        "outputId": "5df1c197-8e32-4090-90f7-0716395f6b30"
      },
      "outputs": [
        {
          "output_type": "stream",
          "name": "stdout",
          "text": [
            "12\n"
          ]
        }
      ],
      "source": [
        "multiply = lambda x, y: x * y\n",
        "\n",
        "result = multiply(3, 4)\n",
        "print(result)  # Output: 12"
      ]
    },
    {
      "cell_type": "markdown",
      "source": [
        "## Question 3\n",
        "\n",
        "### How are lambda functions typically used in Python? Provide an example use case.\n",
        "\n",
        "Answer:\n",
        "\n",
        "- Lambda functions are typically used in Python when a small, one-line function is needed, especially as an argument to higher-order functions like `map()`, `filter()`, or `reduce()`.\n",
        "- They can help in making code more concise and readable. Some common use cases for lambda functions include:\n",
        "  - **Transforming elements in a list:** Lambda functions can be used with `map()` to apply a transformation to each element of a list.\n",
        "  - **Filtering elements from a list:** Lambda functions can be used with `filter()` to selectively filter elements from a list based on a condition.\n",
        "  - **Sorting custom data structures:** Lambda functions can be used with `sorted()` to define custom sorting criteria.\n",
        "\n",
        "Here's an example of using a lambda function to transform a list of numbers:\n",
        "\n",
        "```\n",
        "numbers = [1, 2, 3, 4, 5]\n",
        "squared_numbers = list(map(lambda x: x ** 2, numbers))\n",
        "print(squared_numbers)  # Output: [1, 4, 9, 16, 25]\n",
        "```"
      ],
      "metadata": {
        "id": "AZQNTKn3qLq3"
      }
    },
    {
      "cell_type": "code",
      "source": [
        "numbers = [1, 2, 3, 4, 5]\n",
        "squared_numbers = list(map(lambda x: x ** 2, numbers))\n",
        "print(squared_numbers)  # Output: [1, 4, 9, 16, 25]"
      ],
      "metadata": {
        "colab": {
          "base_uri": "https://localhost:8080/"
        },
        "id": "AGPb_QdmqLK3",
        "outputId": "34bf7259-3af7-45e3-aef0-152c7e57d33f"
      },
      "execution_count": 2,
      "outputs": [
        {
          "output_type": "stream",
          "name": "stdout",
          "text": [
            "[1, 4, 9, 16, 25]\n"
          ]
        }
      ]
    },
    {
      "cell_type": "markdown",
      "source": [
        "## Question 4\n",
        "\n",
        "### What are the advantages and limitations of lambda functions compared to regular functions in Python?\n",
        "\n",
        "### Answer:\n",
        "\n",
        "- Advantages of lambda functions:\n",
        "  1. Conciseness: Lambda functions allow you to write simple, one-line functions without the need for a full function definition.\n",
        "  2. Readability: Lambda functions are often used in conjunction with higher-order functions, making the code more readable and compact.\n",
        "  3. Avoiding clutter: Lambda functions eliminate the need to define a separate function for a simple operation that is only used once.\n",
        "\n",
        "- Limitations of lambda functions:\n",
        "  1. Limited functionality: Lambda functions are restricted to a single expression and cannot contain statements or multiple lines of code.\n",
        "  2. Lack of documentation: Since lambda functions are anonymous, they do not have a name or docstring, making it harder to understand their purpose without additional comments.\n",
        "  3. Reduced reusability: Lambda functions are best suited for small, specific tasks and may not be reusable across multiple parts of a program."
      ],
      "metadata": {
        "id": "UZKNLRwvq0f9"
      }
    },
    {
      "cell_type": "markdown",
      "source": [
        "## Question 5\n",
        "\n",
        "### Are lambda functions in Python able to access variables defined outside of their own scope? Explain with an example.\n",
        "\n",
        "### Answer:\n",
        "\n",
        "Yes, lambda functions in Python can access variables defined outside of their own scope. This is possible through the concept of **closures**.\n",
        "- A closure is a function object that remembers values in the enclosing lexical scope even if they are not present in memory.\n",
        "\n",
        "Here's an example to illustrate how a lambda function can access variables from its surrounding scope:\n",
        "```\n",
        "def outer_function():\n",
        "    x = 10\n",
        "    return lambda y: x + y\n",
        "\n",
        "lambda_func = outer_function()\n",
        "result = lambda_func(5)\n",
        "print(result)  # Output: 15\n",
        "```\n",
        "\n",
        "In this example, the lambda function `lambda_func` is defined within the `outer_function()`. It accesses the variable x from the enclosing scope and adds it to the argument y passed to the lambda function."
      ],
      "metadata": {
        "id": "EeMBT-yErbTO"
      }
    },
    {
      "cell_type": "code",
      "source": [
        "def outer_function():\n",
        "    x = 10\n",
        "    return lambda y: x + y\n",
        "\n",
        "lambda_func = outer_function()\n",
        "result = lambda_func(5)\n",
        "print(result)  # Output: 15"
      ],
      "metadata": {
        "colab": {
          "base_uri": "https://localhost:8080/"
        },
        "id": "TBmGdsv_qzls",
        "outputId": "34902748-be14-4db7-a54e-3ac339079fdf"
      },
      "execution_count": 3,
      "outputs": [
        {
          "output_type": "stream",
          "name": "stdout",
          "text": [
            "15\n"
          ]
        }
      ]
    },
    {
      "cell_type": "markdown",
      "source": [
        "## Question 6\n",
        "\n",
        "### Write a lambda function to calculate the square of a given number.\n",
        "\n"
      ],
      "metadata": {
        "id": "3wq4IKzXr3Bm"
      }
    },
    {
      "cell_type": "code",
      "source": [
        "square = lambda x: x ** 2\n",
        "\n",
        "result = square(5)\n",
        "print(result)"
      ],
      "metadata": {
        "colab": {
          "base_uri": "https://localhost:8080/"
        },
        "id": "5sVA7U7rr2rq",
        "outputId": "2ede9997-eb37-4481-9aa8-93bfbe6c6b94"
      },
      "execution_count": 4,
      "outputs": [
        {
          "output_type": "stream",
          "name": "stdout",
          "text": [
            "25\n"
          ]
        }
      ]
    },
    {
      "cell_type": "markdown",
      "source": [
        "## Question 7\n",
        "\n",
        "### Create a lambda function to find the maximum value in a list of integers.\n",
        "\n"
      ],
      "metadata": {
        "id": "W1HVx_onsg7V"
      }
    },
    {
      "cell_type": "code",
      "source": [
        "numbers = [3, 8, 1, 6, 2]\n",
        "max_value = lambda lst: max(lst)\n",
        "\n",
        "result = max_value(numbers)\n",
        "print(result)  # Output: 8"
      ],
      "metadata": {
        "colab": {
          "base_uri": "https://localhost:8080/"
        },
        "id": "mrJcDtzFsgLj",
        "outputId": "8fe835db-c814-4a7b-c45d-6cfb8964d6e1"
      },
      "execution_count": 5,
      "outputs": [
        {
          "output_type": "stream",
          "name": "stdout",
          "text": [
            "8\n"
          ]
        }
      ]
    },
    {
      "cell_type": "markdown",
      "source": [
        "## Question 8\n",
        "\n",
        "### Implement a lambda function to filter out all the even numbers from a list of integers."
      ],
      "metadata": {
        "id": "ZCx-zdNtst5i"
      }
    },
    {
      "cell_type": "code",
      "source": [
        "numbers = [1, 2, 3, 4, 5, 6, 7, 8, 9, 10, 11, 12, 13, 14, 15]\n",
        "even_numbers = list(filter(lambda x: x % 2 == 0, numbers))\n",
        "\n",
        "print(even_numbers)  # Output: [2, 4, 6, 8, 10]"
      ],
      "metadata": {
        "colab": {
          "base_uri": "https://localhost:8080/"
        },
        "id": "lITH8is0stDH",
        "outputId": "7a1b123f-4058-4d44-9a73-f294fc2e709e"
      },
      "execution_count": 7,
      "outputs": [
        {
          "output_type": "stream",
          "name": "stdout",
          "text": [
            "[2, 4, 6, 8, 10, 12, 14]\n"
          ]
        }
      ]
    },
    {
      "cell_type": "markdown",
      "source": [
        "## Question 9\n",
        "\n",
        "### Write a lambda function to sort a list of strings in ascending order based on the length of each string.\n"
      ],
      "metadata": {
        "id": "0pxo0mPZtV4h"
      }
    },
    {
      "cell_type": "code",
      "source": [
        "strings = [\"apple\", \"banana\", \"cherry\", \"date\", \"elderberry\"]\n",
        "sorted_strings = sorted(strings, key=lambda x: len(x))\n",
        "\n",
        "print(sorted_strings)"
      ],
      "metadata": {
        "colab": {
          "base_uri": "https://localhost:8080/"
        },
        "id": "tGizSoVVs1LL",
        "outputId": "dc05e058-2ac6-47f1-89fd-320a99b6d1c6"
      },
      "execution_count": 8,
      "outputs": [
        {
          "output_type": "stream",
          "name": "stdout",
          "text": [
            "['date', 'apple', 'banana', 'cherry', 'elderberry']\n"
          ]
        }
      ]
    },
    {
      "cell_type": "markdown",
      "source": [
        "## Question 10\n",
        "\n",
        "### Create a lambda function that takes two lists as input and returns a new list containing the common elements between the two lists."
      ],
      "metadata": {
        "id": "iyOC93tRuGix"
      }
    },
    {
      "cell_type": "code",
      "source": [
        "list1 = [1, 2, 3, 4, 5]\n",
        "list2 = [4, 5, 6, 7, 8]\n",
        "common_elements = list(filter(lambda x: x in list1, list2))\n",
        "\n",
        "print(common_elements)"
      ],
      "metadata": {
        "colab": {
          "base_uri": "https://localhost:8080/"
        },
        "id": "ZMDjdEzWuFn_",
        "outputId": "ebfb0d99-cdc6-45a4-8668-81ded8d1e0fd"
      },
      "execution_count": 9,
      "outputs": [
        {
          "output_type": "stream",
          "name": "stdout",
          "text": [
            "[4, 5]\n"
          ]
        }
      ]
    },
    {
      "cell_type": "markdown",
      "source": [
        "## Question 11\n",
        "\n",
        "### Write a recursive function to calculate the factorial of a given positive integer.\n"
      ],
      "metadata": {
        "id": "vFCfsJrnufZV"
      }
    },
    {
      "cell_type": "code",
      "source": [
        "def factorial(n):\n",
        "    if n == 0:\n",
        "        return 1\n",
        "    else:\n",
        "        return n * factorial(n - 1)\n",
        "\n",
        "result = factorial(5)\n",
        "print(result)"
      ],
      "metadata": {
        "colab": {
          "base_uri": "https://localhost:8080/"
        },
        "id": "A8Pi0VKbueR7",
        "outputId": "36b89be4-82e8-47cf-b0a9-1705cdcc7a69"
      },
      "execution_count": 10,
      "outputs": [
        {
          "output_type": "stream",
          "name": "stdout",
          "text": [
            "120\n"
          ]
        }
      ]
    },
    {
      "cell_type": "markdown",
      "source": [
        "## Question 12\n",
        "\n",
        "### Implement a recursive function to compute the nth Fibonacci number."
      ],
      "metadata": {
        "id": "c_N8DvtUupHR"
      }
    },
    {
      "cell_type": "code",
      "source": [
        "def fibonacci(n):\n",
        "    if n <= 1:\n",
        "        return n\n",
        "    else:\n",
        "        return fibonacci(n - 1) + fibonacci(n - 2)\n",
        "\n",
        "result = fibonacci(6)\n",
        "print(result)"
      ],
      "metadata": {
        "colab": {
          "base_uri": "https://localhost:8080/"
        },
        "id": "exZNNHLGuoF6",
        "outputId": "333b557f-1fd6-4280-9bce-6317f1d92c03"
      },
      "execution_count": 12,
      "outputs": [
        {
          "output_type": "stream",
          "name": "stdout",
          "text": [
            "8\n"
          ]
        }
      ]
    },
    {
      "cell_type": "markdown",
      "source": [
        "## Question 13\n",
        "\n",
        "### Create a recursive function to find the sum of all the elements in a given list."
      ],
      "metadata": {
        "id": "rs4TxskAuzMJ"
      }
    },
    {
      "cell_type": "code",
      "source": [
        "def sum_list(lst):\n",
        "    if not lst:\n",
        "        return 0\n",
        "    else:\n",
        "        return lst[0] + sum_list(lst[1:])\n",
        "\n",
        "numbers = [1, 2, 3, 4, 5]\n",
        "result = sum_list(numbers)\n",
        "print(result)"
      ],
      "metadata": {
        "colab": {
          "base_uri": "https://localhost:8080/"
        },
        "id": "T2-g8B-Vux6C",
        "outputId": "3b91cd0c-5b62-4634-cc42-6889f0751b8b"
      },
      "execution_count": 13,
      "outputs": [
        {
          "output_type": "stream",
          "name": "stdout",
          "text": [
            "15\n"
          ]
        }
      ]
    },
    {
      "cell_type": "markdown",
      "source": [
        "## Question 14\n",
        "\n",
        "### Write a recursive function to determine whether a given string is a palindrome."
      ],
      "metadata": {
        "id": "9yW6vFyFvEvZ"
      }
    },
    {
      "cell_type": "code",
      "source": [
        "def is_palindrome(string):\n",
        "    if len(string) <= 1:\n",
        "        return True\n",
        "    else:\n",
        "        if string[0] == string[-1]:\n",
        "            return is_palindrome(string[1:-1])\n",
        "        else:\n",
        "            return False\n",
        "\n",
        "string1 = \"radar\"\n",
        "string2 = \"python\"\n",
        "print(is_palindrome(string1))\n",
        "print(is_palindrome(string2))"
      ],
      "metadata": {
        "colab": {
          "base_uri": "https://localhost:8080/"
        },
        "id": "1rngQD6PvEJx",
        "outputId": "c4679843-5c92-4a6c-d985-43ee086da3b8"
      },
      "execution_count": 14,
      "outputs": [
        {
          "output_type": "stream",
          "name": "stdout",
          "text": [
            "True\n",
            "False\n"
          ]
        }
      ]
    },
    {
      "cell_type": "markdown",
      "source": [
        "## Question 15\n",
        "\n",
        "### Implement a recursive function to find the greatest common divisor (GCD) of two positive integers."
      ],
      "metadata": {
        "id": "39ZjdaLyvhb1"
      }
    },
    {
      "cell_type": "code",
      "source": [
        "def gcd(a, b):\n",
        "    if b == 0:\n",
        "        return a\n",
        "    else:\n",
        "        return gcd(b, a % b)\n",
        "\n",
        "result = gcd(48, 18)\n",
        "print(result)"
      ],
      "metadata": {
        "colab": {
          "base_uri": "https://localhost:8080/"
        },
        "id": "7e162OiUvhHz",
        "outputId": "bd58243c-cc29-4dc6-8c3c-b002d136fe4a"
      },
      "execution_count": 15,
      "outputs": [
        {
          "output_type": "stream",
          "name": "stdout",
          "text": [
            "6\n"
          ]
        }
      ]
    }
  ]
}