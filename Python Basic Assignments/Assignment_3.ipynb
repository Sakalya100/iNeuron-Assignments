{
  "nbformat": 4,
  "nbformat_minor": 0,
  "metadata": {
    "colab": {
      "provenance": []
    },
    "kernelspec": {
      "name": "python3",
      "display_name": "Python 3"
    },
    "language_info": {
      "name": "python"
    }
  },
  "cells": [
    {
      "cell_type": "markdown",
      "source": [
        "# Assignment\n",
        "\n",
        "**Submitted By:** Sakalya Mitra <br>\n",
        "**Email ID:** sakalyamitra@gmail.com <br>\n",
        "[Assignment Link](https://drive.google.com/file/d/1vU3MvFrIILi8Ma57Ft0MzF_PzYxoIH5Y/view)"
      ],
      "metadata": {
        "id": "s8TQVBabUTJ_"
      }
    },
    {
      "cell_type": "markdown",
      "source": [
        "## Question 1\n",
        "\n",
        "Why are functions advantageous to have in your programs?\n",
        "\n",
        "Answer:\n",
        "\n",
        "- Functions are advantageous in programs because they allow you to reuse code instead of writing the same code multiple times.\n",
        "- Functions also help break down complex problems into smaller, manageable pieces. Functions improve readability and organization of code."
      ],
      "metadata": {
        "id": "b3tTra6uUjSe"
      }
    },
    {
      "cell_type": "markdown",
      "source": [
        "## Question 2\n",
        "\n",
        "When does the code in a function run: when it's specified or when it's called?\n",
        "\n",
        "Answer:\n",
        "\n",
        "- The code inside a function runs when the function is called, not when the function is defined.\n",
        "- The function definition simply creates the function, but - it is not executed until the function is called.\n",
        "- This means that the function is not executed until it is explicitly called by another part of your code."
      ],
      "metadata": {
        "id": "_FMF10ZNUoOa"
      }
    },
    {
      "cell_type": "markdown",
      "source": [
        "## Question 3\n",
        "\n",
        "The `def` keyword is used to create a function in Python. The general syntax is:\n",
        "```\n",
        "def function_name(parameters):\n",
        "     statements\n",
        "```\n",
        "\n",
        "For example\n",
        "```\n",
        "def hello():\n",
        "  print(\"Hello World\")\n",
        "```"
      ],
      "metadata": {
        "id": "RxV1L5pOU5Rn"
      }
    },
    {
      "cell_type": "code",
      "source": [
        "def hello():\n",
        "  print(\"Hello World\")"
      ],
      "metadata": {
        "id": "UMvoleYLUX1M"
      },
      "execution_count": 1,
      "outputs": []
    },
    {
      "cell_type": "markdown",
      "source": [
        "## Question 4\n",
        "\n",
        "What is the difference between a function and a function call?\n",
        "\n",
        "Answer:\n",
        "A function definition is the actual code block that defines the function. A function call is when you use the function name followed by `()` to execute the code inside the function. The function definition contains the code, the function call runs the code.\n",
        "\n",
        "For example\n",
        "\n",
        "```\n",
        "def hello():\n",
        "  print(\"Hello World\")\n",
        "```\n",
        "\n",
        "This is function definition\n",
        "\n",
        "```\n",
        "hello()\n",
        "```\n",
        "This is function call"
      ],
      "metadata": {
        "id": "_WqJPjDaYYOh"
      }
    },
    {
      "cell_type": "code",
      "execution_count": 2,
      "metadata": {
        "id": "cxIVLELuHNgj",
        "colab": {
          "base_uri": "https://localhost:8080/"
        },
        "outputId": "a6b99757-4a30-4e97-e813-f3a41defb045"
      },
      "outputs": [
        {
          "output_type": "stream",
          "name": "stdout",
          "text": [
            "Hello World\n"
          ]
        }
      ],
      "source": [
        "# Function defintion\n",
        "def hello():\n",
        "  print(\"Hello World\")\n",
        "\n",
        "# Function Call\n",
        "hello()"
      ]
    },
    {
      "cell_type": "markdown",
      "source": [
        "## Question 5\n",
        "\n",
        "How many global scopes are there in a Python program? How many local scopes?\n",
        "\n",
        "Answer:\n",
        "- There is only one global scope in a Python program.\n",
        "- However, there can be many local scopes, one for each function that is defined."
      ],
      "metadata": {
        "id": "E6_nnYHqY48p"
      }
    },
    {
      "cell_type": "markdown",
      "source": [
        "## Question 6\n",
        "\n",
        "What happens to variables in a local scope when the function call returns?\n",
        "\n",
        "Answer:\n",
        "\n",
        "Variables created inside a function exist only in the local scope. When the function returns, the local variables are destroyed and no longer exist."
      ],
      "metadata": {
        "id": "y2l0x1yIZEqk"
      }
    },
    {
      "cell_type": "markdown",
      "source": [
        "## Question 7\n",
        "What is the concept of a return value? Is it possible to have a return value in an expression?\n",
        "\n",
        "Answer:\n",
        "\n",
        "- Return values allow you to send back information from the function call.\n",
        "- The return keyword specifies the value to send back.\n",
        "- Return values can be used in expressions, assigned to variables, etc."
      ],
      "metadata": {
        "id": "32OMrGnGdW29"
      }
    },
    {
      "cell_type": "markdown",
      "source": [
        "## Question 8\n",
        "\n",
        "If a function does not have a return statement, what is the return value of a call to that function?\n",
        "\n",
        "Answer:\n",
        "\n",
        "If there is no return statement, the function returns None by default."
      ],
      "metadata": {
        "id": "ZzdY2yxQd0tB"
      }
    },
    {
      "cell_type": "code",
      "source": [
        "def without_return():\n",
        "  a = 5\n",
        "\n",
        "print(without_return())"
      ],
      "metadata": {
        "colab": {
          "base_uri": "https://localhost:8080/"
        },
        "id": "1ZqqQ4a2Y2-p",
        "outputId": "b0c7d6cf-8f6b-4af3-ce9a-819e0e6ce111"
      },
      "execution_count": 3,
      "outputs": [
        {
          "output_type": "stream",
          "name": "stdout",
          "text": [
            "None\n"
          ]
        }
      ]
    },
    {
      "cell_type": "markdown",
      "source": [
        "## Question 9\n",
        "\n",
        "How do you make a function variable refer to the global variable?\n",
        "\n",
        "Answer:\n",
        "\n",
        "To make a function variable refer to the global variable, you can use the global keyword. For example, if you have a global variable called counter and you want to make a function variable called counter refer to the global variable, you would use the following code:\n",
        "\n",
        "```\n",
        "def my_function():\n",
        "    global counter\n",
        "    counter += 1\n",
        "\n",
        "my_function()\n",
        "print(counter) # Prints 1\n",
        "```"
      ],
      "metadata": {
        "id": "LjI-X0qEeDeX"
      }
    },
    {
      "cell_type": "markdown",
      "source": [
        "## Question 10\n",
        "What is the data type of None?\n",
        "\n",
        "Answer:\n",
        "\n",
        "The data type of None is NoneType."
      ],
      "metadata": {
        "id": "QDCHvZadeW0e"
      }
    },
    {
      "cell_type": "code",
      "source": [
        "var = None\n",
        "print(type(var))"
      ],
      "metadata": {
        "colab": {
          "base_uri": "https://localhost:8080/"
        },
        "id": "IHKP5sfDeCHk",
        "outputId": "04e32985-005d-4354-d03b-b41b95fd877d"
      },
      "execution_count": 4,
      "outputs": [
        {
          "output_type": "stream",
          "name": "stdout",
          "text": [
            "<class 'NoneType'>\n"
          ]
        }
      ]
    },
    {
      "cell_type": "markdown",
      "source": [
        "## Question 11\n",
        "\n",
        "What does the sentence import areallyourpetsnamederic do?\n",
        "\n",
        "Answer:\n",
        "\n",
        "The sentence `import areallyourpetsnamederic` imports the module `areallyourpetsnamederic`. This module will not be loaded until the import statement is executed."
      ],
      "metadata": {
        "id": "mKZskkTsg5uh"
      }
    },
    {
      "cell_type": "markdown",
      "source": [
        "## Question 12\n",
        "\n",
        "If you had a bacon() feature in a spam module, what would you call it after importing spam?\n",
        "\n",
        "Answer:\n",
        "\n",
        "If we had a `bacon()` feature in a `spam` module, you would call it as follows:\n",
        "```\n",
        "import spam\n",
        "\n",
        "spam.bacon()\n",
        "```"
      ],
      "metadata": {
        "id": "9N_6ZqY4idXU"
      }
    },
    {
      "cell_type": "markdown",
      "source": [
        "## Question 13\n",
        "\n",
        "What can you do to save a programme from crashing if it encounters an error?\n",
        "\n",
        "Answer:\n",
        "\n",
        "To save a program from crashing if it encounters an error, you can use the `try` and `except` clauses. The try clause specifies a block of code that may contain an error. The `except` clause specifies what to do if an error occurs in the `try` block.\n",
        "\n",
        "For example\n",
        "```\n",
        "try:\n",
        "    print \"Hello World\"\n",
        "except:\n",
        "    print \"This is an error message!\"\n",
        "  ```"
      ],
      "metadata": {
        "id": "Jq22CuW4ip_A"
      }
    },
    {
      "cell_type": "code",
      "source": [
        "try:\n",
        "    print(\"Hello World\")\n",
        "except:\n",
        "    print(\"This is an error message!\")"
      ],
      "metadata": {
        "colab": {
          "base_uri": "https://localhost:8080/"
        },
        "id": "GDHcAxDAg4uZ",
        "outputId": "2f813569-ef74-4b6a-efb4-0a36556bde8c"
      },
      "execution_count": 7,
      "outputs": [
        {
          "output_type": "stream",
          "name": "stdout",
          "text": [
            "Hello World\n"
          ]
        }
      ]
    },
    {
      "cell_type": "markdown",
      "source": [
        "## Question 14\n",
        "\n",
        "What is the purpose of the try clause? What is the purpose of the except clause?\n",
        "\n",
        "Answer:\n",
        "\n",
        "The purpose of the `try` clause is to execute a block of code that may contain an error. The purpose of the `except` clause is to handle the error that occurs in the try block."
      ],
      "metadata": {
        "id": "_TVwx4PrjYFA"
      }
    },
    {
      "cell_type": "code",
      "source": [],
      "metadata": {
        "id": "44-HJNySjTwc"
      },
      "execution_count": null,
      "outputs": []
    }
  ]
}