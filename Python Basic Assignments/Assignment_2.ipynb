{
  "nbformat": 4,
  "nbformat_minor": 0,
  "metadata": {
    "colab": {
      "provenance": []
    },
    "kernelspec": {
      "name": "python3",
      "display_name": "Python 3"
    },
    "language_info": {
      "name": "python"
    }
  },
  "cells": [
    {
      "cell_type": "markdown",
      "source": [
        "# Assignment\n",
        "\n",
        "**Submitted By:** Sakalya Mitra <br>\n",
        "**Email ID:** sakalyamitra@gmail.com <br>\n",
        "[Assignment Link](https://drive.google.com/file/d/1eeRUJ1JzCWBWWPi9u3-q8ICJRSQwHUK8/view)"
      ],
      "metadata": {
        "id": "mtxJfCAT-kA3"
      }
    },
    {
      "cell_type": "markdown",
      "source": [
        "## Question 1\n",
        "\n",
        "What are the two values of the Boolean data type? How do you write them?\n",
        "\n",
        "The two values of the Boolean data type are **\"True\"** and **\"False\"**. They are written exactly as shown, with the first letter capitalized."
      ],
      "metadata": {
        "id": "tGF35cS8-nnb"
      }
    },
    {
      "cell_type": "code",
      "execution_count": 1,
      "metadata": {
        "colab": {
          "base_uri": "https://localhost:8080/"
        },
        "id": "GK_li2Od-idh",
        "outputId": "2d38dc76-2b6d-414c-9f0a-ee82a8e221d4"
      },
      "outputs": [
        {
          "output_type": "stream",
          "name": "stdout",
          "text": [
            "True False\n",
            "<class 'bool'>\n",
            "<class 'bool'>\n"
          ]
        }
      ],
      "source": [
        "# Boolean Value Example\n",
        "bool_1 = True\n",
        "bool_2 = False\n",
        "\n",
        "print(bool_1, bool_2)\n",
        "print(type(bool_1))\n",
        "print(type(bool_2))"
      ]
    },
    {
      "cell_type": "markdown",
      "source": [
        "## Question 2\n",
        "\n",
        "What are the three different types of Boolean operators?\n",
        "\n",
        "The three different types of Boolean operators are:\n",
        "\n",
        "- **`and` operator**: Returns True if both operands are True, otherwise returns False.\n",
        "- **`or` operator**: Returns True if at least one of the operands is True, otherwise returns False.\n",
        "- **`not` operator**: Returns the opposite Boolean value of the operand. If the operand is True, it returns False, and if the operand is False, it returns True."
      ],
      "metadata": {
        "id": "poil4Y_-_FFQ"
      }
    },
    {
      "cell_type": "code",
      "source": [
        "# Example of and operator\n",
        "if True and True:\n",
        "  print(\"Both are True\")\n",
        "if True and False:\n",
        "  print(\"One of them is False\")\n",
        "\n",
        "# Example of or operator\n",
        "if True or True:\n",
        "  print(\"Both are True\")\n",
        "if True and False:\n",
        "  print(\"Either of them is True\")\n",
        "if False and False:\n",
        "  print(\"Both are false\")\n",
        "\n",
        "\n",
        "#Example of not operator\n",
        "if (not True):\n",
        "  print(\"It is actually False\")\n",
        "if(not False):\n",
        "  print(\"It is actually True\")"
      ],
      "metadata": {
        "colab": {
          "base_uri": "https://localhost:8080/"
        },
        "id": "XQdBrR0C_En4",
        "outputId": "5bb8efd1-c761-4e80-acd4-4247460e64db"
      },
      "execution_count": 2,
      "outputs": [
        {
          "output_type": "stream",
          "name": "stdout",
          "text": [
            "Both are True\n",
            "Both are True\n",
            "It is actually True\n"
          ]
        }
      ]
    },
    {
      "cell_type": "markdown",
      "source": [
        "## Question 3\n",
        "\n",
        "Make a list of each Boolean operator&#39;s truth tables (i.e. every possible combination of Boolean values for the operator and what it evaluate ).\n",
        "\n",
        "- ### TRUTH TABLE FOR `AND` OPERATOR\n",
        "![and operator.png](data:image/png;base64,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)\n",
        "\n",
        "\n",
        "- ### TRUTH TABLE FOR `OR` OPERATOR\n",
        "![or operator.png](data:image/png;base64,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)\n",
        "\n",
        "\n",
        "- ### TRUTH TABLE FOR `NOT` OPERATOR\n",
        "![not operator.png](data:image/png;base64,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)\n"
      ],
      "metadata": {
        "id": "8iE8OhUmAMJg"
      }
    },
    {
      "cell_type": "markdown",
      "source": [
        "## Question 4\n",
        "What are the values of the following expressions?\n",
        "\n",
        "```\n",
        "- (5 > 4) and (3 == 5) - False\n",
        "- not (5 > 4) - False\n",
        "- (5 > 4) or (3 == 5) - True\n",
        "- not ((5 > 4) or (3 == 5)) - False\n",
        "- (True and True) and (True == False) - False\n",
        "- (not False) or (not True) - True\n",
        "```"
      ],
      "metadata": {
        "id": "cfhv14bDCkzW"
      }
    },
    {
      "cell_type": "markdown",
      "source": [
        "## Question 5\n",
        "\n",
        "What are the six comparison operators?\n",
        "\n",
        "The six comparison operators are:\n",
        "1. Equal to (==)\n",
        "2. Not equal to (!=)\n",
        "3. Greater than (>)\n",
        "4. Less than (<)\n",
        "5. Greater than or equal to (>=)\n",
        "6. Less than or equal to (<=)"
      ],
      "metadata": {
        "id": "bSggeBabCzSN"
      }
    },
    {
      "cell_type": "markdown",
      "source": [
        "## Question 6\n",
        "\n",
        "How do you tell the difference between the equal to and assignment operators?Describe a condition and when you would use one.\n",
        "\n",
        "Answer:\n",
        "\n",
        "The equal to operator `(==)` is used for comparison to check if two values are equal. It returns True if the values are equal and False otherwise.\n",
        "\n",
        "The assignment operator `(=)` is used to assign a value to a variable. It does not compare values, but rather assigns a value to a variable.\n",
        "\n",
        "For example:\n",
        "- Condition using equal to operator: if x == 5:\n",
        "- Assignment: x = 5"
      ],
      "metadata": {
        "id": "Y-nKMFjwDAJL"
      }
    },
    {
      "cell_type": "code",
      "source": [
        "## USe of assignment operator\n",
        "x = 5 # Assigning the value 5 to a variable x\n",
        "print(x)\n",
        "\n",
        "# Use of equal to operator\n",
        "if(x==5): # Checking if the value stored in x is equal to some value or not\n",
        "  print(\"x is 5\")"
      ],
      "metadata": {
        "colab": {
          "base_uri": "https://localhost:8080/"
        },
        "id": "emaEZCQQAIQ_",
        "outputId": "91d93d25-31ba-47ff-e828-61c7aeb77648"
      },
      "execution_count": 3,
      "outputs": [
        {
          "output_type": "stream",
          "name": "stdout",
          "text": [
            "5\n",
            "x is 5\n"
          ]
        }
      ]
    },
    {
      "cell_type": "markdown",
      "source": [
        "## Question 7\n",
        "\n",
        "Identify the three blocks in this code:\n",
        "```\n",
        "spam = 0\n",
        "if spam == 10:\n",
        "print(\"eggs\")\n",
        "if spam > 5:\n",
        "print(\"bacon\")\n",
        "else:\n",
        "print(\"ham\")\n",
        "print(\"spam\")\n",
        "print(\"spam\")\n",
        "```\n",
        "\n",
        "Answer:\n",
        "\n",
        "- Block 1\n",
        "```\n",
        "spam = 0\n",
        "```\n",
        "- Block 2\n",
        "```\n",
        "if spam == 10:\n",
        "    print(\"eggs\")\n",
        "```\n",
        "\n",
        "- Block 3\n",
        "```\n",
        "if spam > 5:\n",
        "    print(\"bacon\")\n",
        "else:\n",
        "    print(\"ham\")\n",
        "    print(\"spam\")\n",
        "    print(\"spam\")\n",
        "```"
      ],
      "metadata": {
        "id": "P_0PIPmGDeoE"
      }
    },
    {
      "cell_type": "markdown",
      "source": [
        "## Question 8\n",
        "\n",
        "Write code that prints Hello if 1 is stored in spam, prints Howdy if 2 is stored in spam, and prints Greetings! if anything else is stored in spam."
      ],
      "metadata": {
        "id": "LZ2T69enD63Z"
      }
    },
    {
      "cell_type": "code",
      "source": [
        "spam = int(input())\n",
        "\n",
        "if spam == 1:\n",
        "    print(\"Hello\")\n",
        "elif spam == 2:\n",
        "    print(\"Howdy\")\n",
        "else:\n",
        "    print(\"Greetings!\")\n"
      ],
      "metadata": {
        "colab": {
          "base_uri": "https://localhost:8080/"
        },
        "id": "mnKzVkuwDd5z",
        "outputId": "64a8aef3-e36e-4e9d-b2a5-c12289221702"
      },
      "execution_count": 5,
      "outputs": [
        {
          "output_type": "stream",
          "name": "stdout",
          "text": [
            "4\n",
            "Greetings!\n"
          ]
        }
      ]
    },
    {
      "cell_type": "markdown",
      "source": [
        "## Question 9\n",
        "\n",
        "If your programme is stuck in an endless loop, what keys you’ll press?\n",
        "\n",
        "Answer:\n",
        "\n",
        "If our program is stuck in an endless loop, you can typically press the `Ctrl+C` keys (or `Command+C` on macOS) to interrupt the program and stop its execution. This combination sends an interrupt signal to the running program, forcing it to terminate."
      ],
      "metadata": {
        "id": "lrIcOzUBEHbA"
      }
    },
    {
      "cell_type": "markdown",
      "source": [
        "## Question 10\n",
        "\n",
        "How can you tell the difference between break and continue?\n",
        "\n",
        "Answer:\n",
        "\n",
        "The `break` statement is used to exit the current loop entirely. When encountered, it terminates the loop and transfers control to the next statement after the loop.\n",
        "\n",
        "For example\n",
        "```\n",
        "i = 0\n",
        "while(i<5):\n",
        "  if(i==3):\n",
        "    break\n",
        "  i+=1\n",
        "print(i)\n",
        "```\n",
        "Here when i becomes 3, the break statement terminates the loop and and moves control to the next statement that is `print(i)`.\n",
        "\n",
        "The `continue` statement is used to skip the rest of the current iteration and move to the next iteration of the loop. When encountered, it immediately goes to the next iteration without executing any remaining statements within the loop for that particular iteration.\n",
        "\n",
        "For example\n",
        "```\n",
        "i = 0\n",
        "while(i<5):\n",
        "  if(i==3):\n",
        "    i+=1\n",
        "    continue\n",
        "  i+=1\n",
        "  print(i)\n",
        "print(i)\n",
        "```\n",
        "Here for i=3 the statement is just skipped but the loop is not broken and we get 4 as output."
      ],
      "metadata": {
        "id": "teXbe4UfEWeg"
      }
    },
    {
      "cell_type": "code",
      "source": [
        "i = 0\n",
        "while(i<5):\n",
        "  if(i==3):\n",
        "    i+=1\n",
        "    continue\n",
        "  print(i)\n",
        "  i+=1"
      ],
      "metadata": {
        "colab": {
          "base_uri": "https://localhost:8080/"
        },
        "id": "tA8_g6pxEFua",
        "outputId": "abb55557-da44-466d-f4d7-fefce1b6040c"
      },
      "execution_count": 7,
      "outputs": [
        {
          "output_type": "stream",
          "name": "stdout",
          "text": [
            "0\n",
            "1\n",
            "2\n",
            "4\n"
          ]
        }
      ]
    },
    {
      "cell_type": "markdown",
      "source": [
        "## Question 11\n",
        "\n",
        "In a for loop, what is the difference between range(10), range(0, 10), and range(0, 10, 1)?\n",
        "\n",
        "Answer:\n",
        "\n",
        "In a for loop:\n",
        "- `range(10)`: It will iterate from 0 to 9 (10 is excluded). The starting point defaults to 0, and the step value defaults to 1.\n",
        "- `range(0, 10)`: It is equivalent to range(10) and will also iterate from 0 to 9.\n",
        "- `range(0, 10, 1)`: It is equivalent to range(10) and range(0, 10) and will iterate from 0 to 9, incrementing by 1 at each step. The start value is explicitly set to 0, and the step value is explicitly set to 1."
      ],
      "metadata": {
        "id": "KZU75PQNFP4l"
      }
    },
    {
      "cell_type": "code",
      "source": [
        "for i in range(10):\n",
        "  print(i, end=\" \")\n",
        "print()\n",
        "\n",
        "for i in range(0,10):\n",
        "  print(i, end=\" \")\n",
        "print()\n",
        "\n",
        "for i in range(0,10,1):\n",
        "  print(i, end=\" \")\n",
        "print()"
      ],
      "metadata": {
        "colab": {
          "base_uri": "https://localhost:8080/"
        },
        "id": "bdcfyOtMFBvZ",
        "outputId": "2465f894-c95e-47d6-cbc4-44bf64fb4013"
      },
      "execution_count": 9,
      "outputs": [
        {
          "output_type": "stream",
          "name": "stdout",
          "text": [
            "0 1 2 3 4 5 6 7 8 9 \n",
            "0 1 2 3 4 5 6 7 8 9 \n",
            "0 1 2 3 4 5 6 7 8 9 \n"
          ]
        }
      ]
    },
    {
      "cell_type": "markdown",
      "source": [
        "## Question 12\n",
        "\n",
        "Write a short program that prints the numbers 1 to 10 using a for loop. Then write an equivalent program that prints the numbers 1 to 10 using a while loop.\n",
        "\n",
        "Answer:\n",
        "\n",
        "```\n",
        "for i in range(1, 11):\n",
        "    print(i)\n",
        "```\n",
        "\n",
        "Equivalent Program using While Loop\n",
        "```\n",
        "count = 1\n",
        "while count <= 10:\n",
        "    print(count)\n",
        "    count += 1\n",
        "\n",
        "```"
      ],
      "metadata": {
        "id": "S2r9YDNkFtjc"
      }
    },
    {
      "cell_type": "code",
      "source": [
        "# Using For Loop\n",
        "print(\"Using For Loop\")\n",
        "for i in range(1, 11):\n",
        "    print(i)\n",
        "\n",
        "# Using While Loop\n",
        "print(\"Using While Loop\")\n",
        "count = 1\n",
        "while count <= 10:\n",
        "    print(count)\n",
        "    count += 1\n"
      ],
      "metadata": {
        "colab": {
          "base_uri": "https://localhost:8080/"
        },
        "id": "i-0XXEkSFncR",
        "outputId": "0f336409-2b6d-4276-a8f1-29b65dd5c4fd"
      },
      "execution_count": 11,
      "outputs": [
        {
          "output_type": "stream",
          "name": "stdout",
          "text": [
            "Using For Loop\n",
            "1\n",
            "2\n",
            "3\n",
            "4\n",
            "5\n",
            "6\n",
            "7\n",
            "8\n",
            "9\n",
            "10\n",
            "Using While Loop\n",
            "1\n",
            "2\n",
            "3\n",
            "4\n",
            "5\n",
            "6\n",
            "7\n",
            "8\n",
            "9\n",
            "10\n"
          ]
        }
      ]
    },
    {
      "cell_type": "markdown",
      "source": [
        "## Question 13\n",
        "\n",
        "If you had a function named `bacon()` inside a module named spam, how would you call it after importing spam?\n",
        "\n",
        "Answer:\n",
        "\n",
        "The syntax for calling a function in a module is\n",
        "- First import the module\n",
        "- then call the function, module_name.functio_name()\n",
        "\n",
        "For our scenario, this will be the way to call `bacon()` function from `spam` module.\n",
        "```\n",
        "import spam\n",
        "\n",
        "spam.bacon()\n",
        "```"
      ],
      "metadata": {
        "id": "yYNtv7fxGHn5"
      }
    }
  ]
}