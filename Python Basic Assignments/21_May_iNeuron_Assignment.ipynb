{
  "nbformat": 4,
  "nbformat_minor": 0,
  "metadata": {
    "colab": {
      "provenance": []
    },
    "kernelspec": {
      "name": "python3",
      "display_name": "Python 3"
    },
    "language_info": {
      "name": "python"
    }
  },
  "cells": [
    {
      "cell_type": "markdown",
      "source": [
        "# Assignment\n",
        "\n",
        "**Submitted By:** Sakalya Mitra <br>\n",
        "**Email ID:** sakalyamitra@gmail.com <br>\n",
        "[Assignment Link](https://drive.google.com/file/d/1nGC6rHsEtfPf6mE0KtQnoH2xTostMKUc/view)"
      ],
      "metadata": {
        "id": "5n9CZa7ovXTt"
      }
    },
    {
      "cell_type": "markdown",
      "source": [
        "## Question 1\n",
        "\n",
        "Create two int type variables, apply addition, subtraction, division and multiplications and store the results in variables. Then print the data in the following format by calling the variables:\n",
        "\n",
        "```\n",
        "First variable is __ & second variable is __.\n",
        "Addition: __ + __ = __\n",
        "Subtraction: __ - __ = __\n",
        "Multiplication: __ * __ = __\n",
        "Division: __ / __ = __\n",
        "```"
      ],
      "metadata": {
        "id": "a_EguP2ZuwCj"
      }
    },
    {
      "cell_type": "code",
      "execution_count": 2,
      "metadata": {
        "colab": {
          "base_uri": "https://localhost:8080/"
        },
        "id": "7agCPTE6qbOT",
        "outputId": "2f84d50d-7503-4455-90aa-2d4d1bfad2e0"
      },
      "outputs": [
        {
          "output_type": "stream",
          "name": "stdout",
          "text": [
            "20\n",
            "5\n",
            "First variable is 20 & second variable is 5\n",
            "Addition: 20 + 5 = 25\n",
            "Subtraction: 20 - 5 = 15\n",
            "Addition: 20 * 5 = 100\n",
            "Addition: 20 / 5 = 4.0\n"
          ]
        }
      ],
      "source": [
        "var1 = int(input())\n",
        "var2 = int(input())\n",
        "\n",
        "print(f'First variable is {var1} & second variable is {var2}')\n",
        "print(f'Addition: {var1} + {var2} = {var1+var2}')\n",
        "print(f'Subtraction: {var1} - {var2} = {var1-var2}')\n",
        "print(f'Addition: {var1} * {var2} = {var1*var2}')\n",
        "print(f'Addition: {var1} / {var2} = {var1/var2}')\n"
      ]
    },
    {
      "cell_type": "markdown",
      "source": [
        "## Question 2\n",
        "\n",
        "What is the difference between the following operators:\n",
        "\n",
        "(i) ```‘/’ & ‘//’```\n",
        "\n",
        "(ii) ```‘**’ & ‘^’```"
      ],
      "metadata": {
        "id": "6C6HU7dnu-Ej"
      }
    },
    {
      "cell_type": "markdown",
      "source": [
        "i) `/` is float division operator. It is used to return the quotient in float format whenever a number is divided by another number. Whereas `//` is floor division or integer division operator that returns the greatest integer less than or equal to the quotient obtained when we divide two numbers.\n",
        "\n",
        "Example\n",
        "```\n",
        "10/3 = 3.3333333333333335\n",
        "\n",
        "10//3 = 3 (because the greatest integer less than or equal to 3.3333333333333335 is 3)\n",
        "```\n",
        "\n",
        "ii) `**` is the exponential operator in Python. It is used to raise a number A to the power of B. For example `2**3` = 2 <sup>3</sup> = `8`.\n",
        "\n",
        "Whereas `^` is the Bitwise XOR operator. It performs a bitwise XOR operation between 2 numbers.\n",
        "For example\n",
        "```\n",
        "XOR TABLE\n",
        "1 ^ 1 = 0\n",
        "0 ^ 0 = 0\n",
        "1 ^ 0 = 1\n",
        "0 ^ 1 = 1\n",
        "\n",
        "a =  1 0 0 1 = 9\n",
        "b =  1 1 0 1 = 13\n",
        "^ =  0 1 0 0 = 4  \n",
        "```"
      ],
      "metadata": {
        "id": "93f-mm7ewVwD"
      }
    },
    {
      "cell_type": "code",
      "source": [
        "10//3"
      ],
      "metadata": {
        "colab": {
          "base_uri": "https://localhost:8080/"
        },
        "id": "W3t29aUFvFGX",
        "outputId": "93e5cc9e-e153-463e-bd27-c0d9d8ad4ac7"
      },
      "execution_count": 4,
      "outputs": [
        {
          "output_type": "execute_result",
          "data": {
            "text/plain": [
              "3"
            ]
          },
          "metadata": {},
          "execution_count": 4
        }
      ]
    },
    {
      "cell_type": "markdown",
      "source": [
        "## Question 3\n",
        "\n",
        "List the logical operators.\n",
        "\n",
        "|  and |Returns True if both statements are true| x < 5 and x < 10 |  \n",
        "|---|---|---|\n",
        "| or  |Returns True if one of the statements is true |x < 5 or x < 4|\n",
        "|  not |Reverse the result, returns False if the result is true|not(x < 5 and x < 10)|   "
      ],
      "metadata": {
        "id": "FXnOWT71vFm1"
      }
    },
    {
      "cell_type": "markdown",
      "source": [
        "## Question 4\n",
        "\n",
        "Explain right shift operator and left shift operator with examples.\n",
        "\n"
      ],
      "metadata": {
        "id": "fvXb0RsyvJzV"
      }
    },
    {
      "cell_type": "markdown",
      "source": [
        "The right shift and left shift operators are bitwise operators commonly used in programming languages. These operators allow you to shift the bits of a number to the right or left, respectively. They are often used in scenarios where you need to perform quick multiplication or division by powers of 2.\n",
        "\n",
        "1. Right Shift Operator (>>):\n",
        "\n",
        "  The right shift operator (>>), when applied to a number, shifts the bits of the number to the right by a specified number of positions. The vacant positions at the leftmost end are filled with zeros. Each shift to the right effectively divides the number by 2.\n",
        "\n",
        "  Example<br>\n",
        "  ```\n",
        "  # Right shift operator in Python\n",
        "  num = 16  # Binary representation: 00010000\n",
        "  shifted = num >> 2  # Shift two positions to the right\n",
        "  print(shifted)  # Output: 4\n",
        "  ```\n",
        "  In this example, the binary representation of num is `00010000`. After shifting it two positions to the right, the result is `00000100`, which is equal to 4 in decimal representation.\n",
        "\n",
        "2. Left Shift Operator (<<):<br>\n",
        "  The left shift operator (<<) shifts the bits of a number to the left by a specified number of positions. The vacant positions at the rightmost end are filled with zeros. Each shift to the left effectively multiplies the number by 2.\n",
        "\n",
        "  Example <br>\n",
        "  ```\n",
        "  # Left shift operator in Python\n",
        "  num = 5  # Binary representation: 00000101\n",
        "  shifted = num << 3  # Shift three positions to the left\n",
        "  print(shifted)  # Output: 40\n",
        "  ```\n",
        "  In this example, the binary representation of num is `00000101`. After shifting it three positions to the left, the result is `00101000`, which is equal to 40 in decimal representation.\n",
        "\n",
        "  Both right shift (>>) and left shift (<<) operators are commonly used in various programming scenarios, such as optimizing arithmetic operations, bit manipulation, and handling certain data structures efficiently."
      ],
      "metadata": {
        "id": "N6aXV6tX6ZfI"
      }
    },
    {
      "cell_type": "markdown",
      "source": [
        "## Question 5\n",
        "\n",
        "Create a list containing int type data of length 15. Then write a code to check if 10 is present in the list or not."
      ],
      "metadata": {
        "id": "bkKPdM9gvPYE"
      }
    },
    {
      "cell_type": "code",
      "source": [
        "# Creating a list of integers in Python\n",
        "my_list = [10, 20, 30, 40, 50, 60, 70, 80, 90, 100, 110, 120, 130, 140, 150]\n",
        "print(my_list)\n",
        "\n",
        "flag = 0\n",
        "for i in my_list:\n",
        "  if i==10:\n",
        "    flag = 1\n",
        "    break\n",
        "if flag==1:\n",
        "  print(\"10 is present in our list\")\n",
        "else:\n",
        "  print(\"10 is not present in our list\")"
      ],
      "metadata": {
        "colab": {
          "base_uri": "https://localhost:8080/"
        },
        "id": "Yhwfas3cvS8L",
        "outputId": "e29b85bf-cb1f-47ed-ae24-59d4c01f842d"
      },
      "execution_count": 7,
      "outputs": [
        {
          "output_type": "stream",
          "name": "stdout",
          "text": [
            "[10, 20, 30, 40, 50, 60, 70, 80, 90, 100, 110, 120, 130, 140, 150]\n",
            "10 is present in our list\n"
          ]
        }
      ]
    }
  ]
}