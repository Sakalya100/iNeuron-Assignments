{
  "nbformat": 4,
  "nbformat_minor": 0,
  "metadata": {
    "colab": {
      "provenance": []
    },
    "kernelspec": {
      "name": "python3",
      "display_name": "Python 3"
    },
    "language_info": {
      "name": "python"
    }
  },
  "cells": [
    {
      "cell_type": "markdown",
      "source": [
        "# Assignment\n",
        "\n",
        "**Submitted By:** Sakalya Mitra <br>\n",
        "**Email ID:** sakalyamitra@gmail.com <br>\n",
        "[Assignment Link](https://drive.google.com/file/d/1fM3fWLFqQAgiOa3YY41ZRlEFzqA3vorL/view)"
      ],
      "metadata": {
        "id": "ucQw1SmNwQbt"
      }
    },
    {
      "cell_type": "markdown",
      "source": [
        "## Question 1\n",
        "\n",
        " What does an empty dictionary's code look like?\n",
        "\n",
        " Answer:\n",
        "\n",
        " An empty dictionary's code looks like this: `{}`. It is represented by a pair of curly braces with no key-value pairs inside."
      ],
      "metadata": {
        "id": "RI_hUw1ywQpd"
      }
    },
    {
      "cell_type": "code",
      "execution_count": 1,
      "metadata": {
        "colab": {
          "base_uri": "https://localhost:8080/"
        },
        "id": "AMnTC-8JwJ0k",
        "outputId": "eb31ba5d-31a3-4c70-bbd1-7c1c7e1a48f4"
      },
      "outputs": [
        {
          "output_type": "stream",
          "name": "stdout",
          "text": [
            "{}\n"
          ]
        }
      ],
      "source": [
        "empty_dict = {}\n",
        "print(empty_dict)"
      ]
    },
    {
      "cell_type": "markdown",
      "source": [
        "## Question 2\n",
        "\n",
        "What is the value of a dictionary value with the key 'foo' and the value 42?\n",
        "\n",
        "Answer:\n",
        "\n",
        "The value of a dictionary value with the key `'foo'` and the value `42` would be `42`. In Python dictionaries, values are associated with keys, allowing you to retrieve the value by using the corresponding key."
      ],
      "metadata": {
        "id": "lKBJc3nMwezs"
      }
    },
    {
      "cell_type": "code",
      "source": [
        "dict = {'foo':42}\n",
        "dict['foo']"
      ],
      "metadata": {
        "colab": {
          "base_uri": "https://localhost:8080/"
        },
        "id": "Kb_c7tpCweYf",
        "outputId": "521f8501-08bd-469a-b2f5-6331c648b5cf"
      },
      "execution_count": 2,
      "outputs": [
        {
          "output_type": "execute_result",
          "data": {
            "text/plain": [
              "42"
            ]
          },
          "metadata": {},
          "execution_count": 2
        }
      ]
    },
    {
      "cell_type": "markdown",
      "source": [
        "## Question 3\n",
        "\n",
        "What is the most significant distinction between a dictionary and a list?\n",
        "\n",
        "\n",
        "Answer:\n",
        "\n",
        "The most significant distinction between a dictionary and a list is their structure and the way they store and retrieve data:\n",
        "\n",
        "- A dictionary is an unordered collection of key-value pairs, where each key is unique and associated with a value. It provides a way to access values based on their keys.\n",
        "- A list is an ordered collection of items, which can be of any type. It allows accessing elements by their position using indexes."
      ],
      "metadata": {
        "id": "86QWfXhywqOE"
      }
    },
    {
      "cell_type": "markdown",
      "source": [
        "## Question 4\n",
        "\n",
        "What happens if you try to access `spam['foo']` if spam is `{'bar': 100}`?\n",
        "\n",
        "Answer:\n",
        "\n",
        "If you try to access `spam['foo']` when spam is `{'bar': 100}`, it will raise a **KeyError** because the key `'foo'` does not exist in the dictionary spam. The code is trying to access a non-existing key, which results in an error."
      ],
      "metadata": {
        "id": "ZCy38rgywzQh"
      }
    },
    {
      "cell_type": "code",
      "source": [
        "spam = {'bar': 100}\n",
        "spam['foo']"
      ],
      "metadata": {
        "colab": {
          "base_uri": "https://localhost:8080/",
          "height": 182
        },
        "id": "np-A9TCewpZG",
        "outputId": "63209af2-4b72-421e-b74f-d54d8d893dcc"
      },
      "execution_count": 3,
      "outputs": [
        {
          "output_type": "error",
          "ename": "KeyError",
          "evalue": "ignored",
          "traceback": [
            "\u001b[0;31m---------------------------------------------------------------------------\u001b[0m",
            "\u001b[0;31mKeyError\u001b[0m                                  Traceback (most recent call last)",
            "\u001b[0;32m<ipython-input-3-56a8e50c7ff8>\u001b[0m in \u001b[0;36m<cell line: 2>\u001b[0;34m()\u001b[0m\n\u001b[1;32m      1\u001b[0m \u001b[0mspam\u001b[0m \u001b[0;34m=\u001b[0m \u001b[0;34m{\u001b[0m\u001b[0;34m'bar'\u001b[0m\u001b[0;34m:\u001b[0m \u001b[0;36m100\u001b[0m\u001b[0;34m}\u001b[0m\u001b[0;34m\u001b[0m\u001b[0;34m\u001b[0m\u001b[0m\n\u001b[0;32m----> 2\u001b[0;31m \u001b[0mspam\u001b[0m\u001b[0;34m[\u001b[0m\u001b[0;34m'foo'\u001b[0m\u001b[0;34m]\u001b[0m\u001b[0;34m\u001b[0m\u001b[0;34m\u001b[0m\u001b[0m\n\u001b[0m",
            "\u001b[0;31mKeyError\u001b[0m: 'foo'"
          ]
        }
      ]
    },
    {
      "cell_type": "markdown",
      "source": [
        "## Question 5\n",
        "\n",
        "If a dictionary is stored in spam, what is the difference between the expressions 'cat' in spam and 'cat' in `spam.keys()`?\n",
        "\n",
        "Answer:\n",
        "\n",
        "- If a dictionary is stored in spam, the expression `'cat'` in spam checks if the string 'cat' is a **key** in the dictionary spam. It returns ***True*** if 'cat' is a key in spam, and ***False*** otherwise.\n",
        "\n",
        "- The expression `'cat'` in `spam.keys()` also checks if `'cat'` is a key in the dictionary spam. It performs the same check as the previous expression, and the result will be the same."
      ],
      "metadata": {
        "id": "mMTmoapqxFTg"
      }
    },
    {
      "cell_type": "markdown",
      "source": [
        "## Question 6\n",
        "\n",
        "If a dictionary is stored in spam, what is the difference between the expressions 'cat' in spam and 'cat' in `spam.values()`?\n",
        "\n",
        "Answer:\n",
        "\n",
        "- If a dictionary is stored in spam, the expression `'cat'` in spam checks if the string 'cat' is a **key** in the dictionary spam. It returns ***True*** if 'cat' is a key in spam, and ***False*** otherwise.\n",
        "\n",
        "- The expression `'cat'` in `spam.values()` checks if `'cat'` is a value in the dictionary spam. It performs the check and returns True and False accordingly."
      ],
      "metadata": {
        "id": "jaSez4uyxapY"
      }
    },
    {
      "cell_type": "markdown",
      "source": [
        "## Question 7\n",
        "\n",
        "What is a shortcut for the following code?\n",
        "```\n",
        "if 'color' not in spam:\n",
        "  spam['color'] = 'black';\n",
        "```\n",
        "\n",
        "Answer:\n",
        "\n",
        "We can use the `setdefault()` function for the same operation.\n",
        "\n",
        "```\n",
        "spam.setdefault('color', 'black')\n",
        "```\n",
        "This method checks if the key 'color' is present in the dictionary spam. If it is not present, it adds the key-value pair 'color': 'black' to the dictionary."
      ],
      "metadata": {
        "id": "B_05uH8vxyq7"
      }
    },
    {
      "cell_type": "code",
      "source": [
        "spam = {'bar': 100}\n",
        "spam.setdefault('color', 'black')\n",
        "print(spam)"
      ],
      "metadata": {
        "colab": {
          "base_uri": "https://localhost:8080/"
        },
        "id": "i-NhzPGxxEg0",
        "outputId": "6f869222-5054-4d0e-b1eb-9c7dbc147ef4"
      },
      "execution_count": 4,
      "outputs": [
        {
          "output_type": "stream",
          "name": "stdout",
          "text": [
            "{'bar': 100, 'color': 'black'}\n"
          ]
        }
      ]
    },
    {
      "cell_type": "markdown",
      "source": [
        "## Question 8\n",
        "\n",
        "How do you \"pretty print\" dictionary values using which module and function?\n",
        "\n",
        "Answer:\n",
        "\n",
        "To \"pretty print\" dictionary values in a more readable format, we can use the `pprint` module and its `pprint()` function.\n",
        "\n",
        "For example\n",
        "```\n",
        "import pprint\n",
        "\n",
        "my_dict = {'key1': 'value1', 'key2': 'value2'}\n",
        "pprint.pprint(my_dict)\n",
        "```\n",
        "\n",
        "The `pprint.pprint()` function formats the dictionary my_dict in a more visually appealing and structured way, with each key-value pair on a separate line and indentation to indicate nested elements."
      ],
      "metadata": {
        "id": "VncrSddayMJJ"
      }
    },
    {
      "cell_type": "code",
      "source": [
        "import pprint\n",
        "\n",
        "my_dict = {'key1': 'value1', 'key2': 'value2'}\n",
        "pprint.pprint(my_dict)"
      ],
      "metadata": {
        "colab": {
          "base_uri": "https://localhost:8080/"
        },
        "id": "0mXjCGNJyKH1",
        "outputId": "7943bcbf-f17a-4473-f3d6-8a8e90acddf1"
      },
      "execution_count": 5,
      "outputs": [
        {
          "output_type": "stream",
          "name": "stdout",
          "text": [
            "{'key1': 'value1', 'key2': 'value2'}\n"
          ]
        }
      ]
    },
    {
      "cell_type": "code",
      "source": [
        "sample_dict = {\n",
        "    'age': 31,\n",
        "    'gender': 'male',\n",
        "    'books': ['Harry Potter', 'Lord of the Rings']\n",
        "}\n",
        "pprint.pprint(sample_dict)"
      ],
      "metadata": {
        "colab": {
          "base_uri": "https://localhost:8080/"
        },
        "id": "8y9qION4ygSH",
        "outputId": "804d1d9b-ad77-4640-ef19-b75b4cc5946c"
      },
      "execution_count": 6,
      "outputs": [
        {
          "output_type": "stream",
          "name": "stdout",
          "text": [
            "{'age': 31, 'books': ['Harry Potter', 'Lord of the Rings'], 'gender': 'male'}\n"
          ]
        }
      ]
    },
    {
      "cell_type": "markdown",
      "source": [
        "### JSON Formatting\n",
        "\n",
        "Python dictionaries carry a lot of similar characteristics with JSON objects. Because of this, we can use the JSON library to return a formatted JSON string.\n",
        "\n",
        "We can use the `json` module and in it is a function called `.dumps()`, which dumps a string object."
      ],
      "metadata": {
        "id": "uQe13DIbyycy"
      }
    },
    {
      "cell_type": "code",
      "source": [
        "import json\n",
        "\n",
        "sample_dict = {'Nik':{'age': 31, 'gender': 'male', 'books': ['Harry Potter', 'Lord of the Rings']}, 'Joe': {'age': 40, 'gender': 'male', 'books':['Lord of the Flies']}}\n",
        "pretty = json.dumps(sample_dict, indent=4)\n",
        "\n",
        "print(pretty)"
      ],
      "metadata": {
        "colab": {
          "base_uri": "https://localhost:8080/"
        },
        "id": "u8aS0jnqynam",
        "outputId": "6a57a9b1-6244-4139-8539-bc247e78ce82"
      },
      "execution_count": 7,
      "outputs": [
        {
          "output_type": "stream",
          "name": "stdout",
          "text": [
            "{\n",
            "    \"Nik\": {\n",
            "        \"age\": 31,\n",
            "        \"gender\": \"male\",\n",
            "        \"books\": [\n",
            "            \"Harry Potter\",\n",
            "            \"Lord of the Rings\"\n",
            "        ]\n",
            "    },\n",
            "    \"Joe\": {\n",
            "        \"age\": 40,\n",
            "        \"gender\": \"male\",\n",
            "        \"books\": [\n",
            "            \"Lord of the Flies\"\n",
            "        ]\n",
            "    }\n",
            "}\n"
          ]
        }
      ]
    },
    {
      "cell_type": "code",
      "source": [],
      "metadata": {
        "id": "mAjXE9wMy4dT"
      },
      "execution_count": null,
      "outputs": []
    }
  ]
}