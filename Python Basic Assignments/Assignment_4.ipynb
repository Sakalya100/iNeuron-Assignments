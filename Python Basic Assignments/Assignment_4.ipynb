{
  "nbformat": 4,
  "nbformat_minor": 0,
  "metadata": {
    "colab": {
      "provenance": []
    },
    "kernelspec": {
      "name": "python3",
      "display_name": "Python 3"
    },
    "language_info": {
      "name": "python"
    }
  },
  "cells": [
    {
      "cell_type": "markdown",
      "source": [
        "# Assignment\n",
        "\n",
        "**Submitted By:** Sakalya Mitra <br>\n",
        "**Email ID:** sakalyamitra@gmail.com <br>\n",
        "[Assignment Link](https://drive.google.com/file/d/1zdWsymBu3P-L27CnBViY8MSeedeSc_2Y/view)"
      ],
      "metadata": {
        "id": "KKtwALsKgx5j"
      }
    },
    {
      "cell_type": "markdown",
      "source": [
        "## Question 1\n",
        "\n",
        "What exactly is `[]`?\n",
        "\n",
        "Answer:\n",
        "\n",
        "- `[]` are the square brackets used to declare lists in Python.\n",
        "- `[]` is an empty list in Python. It represents a collection of values, but in this case, it contains no elements.\n"
      ],
      "metadata": {
        "id": "ALjUZ-v1gyXk"
      }
    },
    {
      "cell_type": "markdown",
      "source": [
        "## Question 2\n",
        "\n",
        "In a list of values stored in a variable called spam, how would you assign the value \"hello\" as the third value? (Assume `[2, 4, 6, 8, 10]` are in spam.).\n",
        "\n",
        "\n",
        "Answer:\n",
        "\n",
        "To assign the value \"hello\" as the third value in the list stored in the variable spam, we can use the indexing notation with assignment:\n",
        "```\n",
        "spam[2] = \"hello\"\n",
        "```\n",
        "\n",
        "The index 2 corresponds to the third element in the list since indexing starts from 0. The modified spam list would become `[2, 4, \"hello\", 8, 10]`."
      ],
      "metadata": {
        "id": "V81v29DlhEg4"
      }
    },
    {
      "cell_type": "markdown",
      "source": [
        "Let's pretend the spam includes the list `[\"a\",\"b\",\"c\",\"d\"]` for the next three queries."
      ],
      "metadata": {
        "id": "8GRc4taqhEcO"
      }
    },
    {
      "cell_type": "markdown",
      "source": [
        "## Question 3\n",
        "\n",
        "What is the value of `spam[int(int('3' * 2) / 11)]`?\n",
        "\n",
        "Answer:\n",
        "\n",
        "The value of spam[int(int('3' * 2) / 11)] can be calculated step by step:\n",
        "- '3' * 2 evaluates to the string '33'.\n",
        "- int('33') converts the string '33' to the integer 33.\n",
        "- 33 / 11 performs integer division, resulting in 3.\n",
        "- Finally, spam[3] refers to the fourth element in the list spam. In this case, it is 'd'."
      ],
      "metadata": {
        "id": "VrB_9huKhkVE"
      }
    },
    {
      "cell_type": "code",
      "execution_count": 1,
      "metadata": {
        "colab": {
          "base_uri": "https://localhost:8080/",
          "height": 36
        },
        "id": "47nTewzwfsaj",
        "outputId": "cb1664de-9bf1-44ca-d23d-54ecf464b9fe"
      },
      "outputs": [
        {
          "output_type": "execute_result",
          "data": {
            "text/plain": [
              "'d'"
            ],
            "application/vnd.google.colaboratory.intrinsic+json": {
              "type": "string"
            }
          },
          "metadata": {},
          "execution_count": 1
        }
      ],
      "source": [
        "spam = [\"a\",\"b\",\"c\",\"d\"]\n",
        "spam[int(int('3' * 2) / 11)]"
      ]
    },
    {
      "cell_type": "markdown",
      "source": [
        "## Question 4\n",
        "\n",
        "What is the value of spam[-1]?\n",
        "\n",
        "Answer:\n",
        "\n",
        "The value of `spam[-1]` refers to the last element in the list spam. Using the list `[\"a\", \"b\", \"c\", \"d\"]` as an example, the value would be `'d'`."
      ],
      "metadata": {
        "id": "5ROhIFU2h1Ls"
      }
    },
    {
      "cell_type": "code",
      "source": [
        "spam[-1]"
      ],
      "metadata": {
        "colab": {
          "base_uri": "https://localhost:8080/",
          "height": 36
        },
        "id": "Pn82F_aqh0eZ",
        "outputId": "fe5efef3-8259-4cab-affa-d4b52e643f02"
      },
      "execution_count": 2,
      "outputs": [
        {
          "output_type": "execute_result",
          "data": {
            "text/plain": [
              "'d'"
            ],
            "application/vnd.google.colaboratory.intrinsic+json": {
              "type": "string"
            }
          },
          "metadata": {},
          "execution_count": 2
        }
      ]
    },
    {
      "cell_type": "markdown",
      "source": [
        "## Question 5\n",
        "\n",
        "What is the value of spam[:2]?\n",
        "\n",
        "Answer:\n",
        "\n",
        "The value of `spam[:2]` is a sublist that includes all elements from the beginning of the list up to, but not including, the element at index 2. Using the list `[\"a\", \"b\", \"c\", \"d\"]` as an example, the value would be `[\"a\", \"b\"]`."
      ],
      "metadata": {
        "id": "-VQ3oAsui453"
      }
    },
    {
      "cell_type": "code",
      "source": [
        "spam[:2]"
      ],
      "metadata": {
        "colab": {
          "base_uri": "https://localhost:8080/"
        },
        "id": "Y-ZddkDBi3mt",
        "outputId": "0a940487-e950-4af6-cef8-730090b6cbda"
      },
      "execution_count": 3,
      "outputs": [
        {
          "output_type": "execute_result",
          "data": {
            "text/plain": [
              "['a', 'b']"
            ]
          },
          "metadata": {},
          "execution_count": 3
        }
      ]
    },
    {
      "cell_type": "markdown",
      "source": [
        "Let's pretend bacon has the list `[3.14,'cat', 11,'cat',True]` for the next three questions."
      ],
      "metadata": {
        "id": "emIZXtRbjGO-"
      }
    },
    {
      "cell_type": "code",
      "source": [
        "bacon = [3.14,'cat', 11,'cat',True]"
      ],
      "metadata": {
        "id": "IJVilI57jYaI"
      },
      "execution_count": 5,
      "outputs": []
    },
    {
      "cell_type": "markdown",
      "source": [
        "## Question 6\n",
        "\n",
        "What is the value of bacon.index('cat')?\n",
        "\n",
        "Answer:\n",
        "\n",
        "The value of `bacon.index('cat')` returns the index of the first occurrence of the string 'cat' in the list bacon. If bacon is `['3.14', 'cat', 11, 'cat', True]`, the index returned would be `1`."
      ],
      "metadata": {
        "id": "LbythprejDZ_"
      }
    },
    {
      "cell_type": "code",
      "source": [
        "bacon.index('cat')"
      ],
      "metadata": {
        "colab": {
          "base_uri": "https://localhost:8080/"
        },
        "id": "NSDfwuhPjCpm",
        "outputId": "b39d597e-5c0e-42e7-9328-a54243033976"
      },
      "execution_count": 6,
      "outputs": [
        {
          "output_type": "execute_result",
          "data": {
            "text/plain": [
              "1"
            ]
          },
          "metadata": {},
          "execution_count": 6
        }
      ]
    },
    {
      "cell_type": "markdown",
      "source": [
        "## Question 7\n",
        "\n",
        "How does bacon.append(99) change the look of the list value in bacon?\n",
        "\n",
        "Answer:\n",
        "\n",
        "The `bacon.append(99)` method adds the value 99 to the end of the list bacon. If bacon is `['3.14', 'cat', 11, 'cat', True]`, after appending 99, bacon would become `['3.14', 'cat', 11, 'cat', True, 99]`."
      ],
      "metadata": {
        "id": "sUNfG9Y9jbU7"
      }
    },
    {
      "cell_type": "code",
      "source": [
        "bacon.append(99)\n",
        "bacon"
      ],
      "metadata": {
        "colab": {
          "base_uri": "https://localhost:8080/"
        },
        "id": "iVNjv2oqjW3W",
        "outputId": "f271e9f3-3b67-42d9-a909-fc1c5b1e0abe"
      },
      "execution_count": 7,
      "outputs": [
        {
          "output_type": "execute_result",
          "data": {
            "text/plain": [
              "[3.14, 'cat', 11, 'cat', True, 99]"
            ]
          },
          "metadata": {},
          "execution_count": 7
        }
      ]
    },
    {
      "cell_type": "markdown",
      "source": [
        "## Question 8\n",
        "\n",
        "How does bacon.remove('cat') change the look of the list in bacon?\n",
        "\n",
        "Answer:\n",
        "\n",
        "The `bacon.remove('cat')` method removes the first occurrence of the string 'cat' from the list bacon. If bacon is `['3.14', 'cat', 11, 'cat', True]`, after removing 'cat', bacon would become `['3.14', 11, 'cat', True]`."
      ],
      "metadata": {
        "id": "dAGFh5yNjlkE"
      }
    },
    {
      "cell_type": "code",
      "source": [
        "bacon.remove('cat')\n",
        "bacon"
      ],
      "metadata": {
        "colab": {
          "base_uri": "https://localhost:8080/"
        },
        "id": "tQPkZaIhjkus",
        "outputId": "dcdaa77e-bcf2-43ff-c1a7-8e76c4f00899"
      },
      "execution_count": 8,
      "outputs": [
        {
          "output_type": "execute_result",
          "data": {
            "text/plain": [
              "[3.14, 11, 'cat', True, 99]"
            ]
          },
          "metadata": {},
          "execution_count": 8
        }
      ]
    },
    {
      "cell_type": "markdown",
      "source": [
        "## Question 9\n",
        "\n",
        "What are the list concatenation and list replication operators?\n",
        "\n",
        "Answer:\n",
        "\n",
        "The list concatenation operator is `+`, which combines two lists into a new list.\n",
        "For example:\n",
        "```\n",
        "list1 = [1, 2, 3]\n",
        "list2 = [4, 5, 6]\n",
        "concatenated_list = list1 + list2  # Result: [1, 2, 3, 4, 5, 6]\n",
        "```\n",
        "\n",
        "The list replication operator is `*`, which repeats a list a certain number of times. For example:\n",
        "```\n",
        "list1 = [1, 2]\n",
        "repeated_list = list1 * 3  # Result: [1, 2, 1, 2, 1, 2]\n",
        "```"
      ],
      "metadata": {
        "id": "9FV3YzaJj04E"
      }
    },
    {
      "cell_type": "code",
      "source": [
        "# List Concatenation\n",
        "list1 = [1, 2, 3]\n",
        "list2 = [4, 5, 6]\n",
        "concatenated_list = list1 + list2  # Result: [1, 2, 3, 4, 5, 6]\n",
        "print(concatenated_list)\n",
        "\n",
        "# List Replication\n",
        "list1 = [1, 2]\n",
        "repeated_list = list1 * 3  # Result: [1, 2, 1, 2, 1, 2]\n",
        "print(repeated_list)"
      ],
      "metadata": {
        "colab": {
          "base_uri": "https://localhost:8080/"
        },
        "id": "oqBl_x8-jxtC",
        "outputId": "9c9db41f-3be1-4542-a045-75989af1e09d"
      },
      "execution_count": 10,
      "outputs": [
        {
          "output_type": "stream",
          "name": "stdout",
          "text": [
            "[1, 2, 3, 4, 5, 6]\n",
            "[1, 2, 1, 2, 1, 2]\n"
          ]
        }
      ]
    },
    {
      "cell_type": "markdown",
      "source": [
        "## Question 10\n",
        "\n",
        "What is difference between the list methods `append()` and `insert()`?\n",
        "\n",
        "Answer:\n",
        "\n",
        "- The `append()` method is used to add an element to the end of a list, while the `insert()` method is used to insert an element at a specific position in a list.\n",
        "- The `append()` method always adds the element at the end, whereas `insert()` allows you to specify the desired position."
      ],
      "metadata": {
        "id": "feuTIb37l0Js"
      }
    },
    {
      "cell_type": "code",
      "source": [
        "# Append Example\n",
        "my_list = [1,2,4,5]\n",
        "my_list.append(3)\n",
        "print(my_list)\n",
        "\n",
        "# Insert Example\n",
        "my_list.insert(2,3)\n",
        "print(my_list)"
      ],
      "metadata": {
        "colab": {
          "base_uri": "https://localhost:8080/"
        },
        "id": "IyMJB1pylujj",
        "outputId": "55f3615b-6b72-430a-e813-9d7afc5e4377"
      },
      "execution_count": 11,
      "outputs": [
        {
          "output_type": "stream",
          "name": "stdout",
          "text": [
            "[1, 2, 4, 5, 3]\n",
            "[1, 2, 3, 4, 5, 3]\n"
          ]
        }
      ]
    },
    {
      "cell_type": "markdown",
      "source": [
        "## Question 11\n",
        "\n",
        "What are the two methods for removing items from a list?\n",
        "\n",
        "Answer:\n",
        "\n",
        "The two methods for removing items from a list are:\n",
        "\n",
        "- The `remove()` method removes the first occurrence of a specified value from the list.\n",
        "- The `pop()` method removes an element at a specific index (if the index is not provided, it removes the last element) and returns the removed value."
      ],
      "metadata": {
        "id": "lfGO7vrCm6x0"
      }
    },
    {
      "cell_type": "code",
      "source": [
        "# Remove Method\n",
        "# assign list\n",
        "numbers = [1, 2, 3, 2, 3, 4, 5]\n",
        "\n",
        "# use remove()\n",
        "numbers.remove(3)\n",
        "\n",
        "# display list\n",
        "print(numbers)"
      ],
      "metadata": {
        "colab": {
          "base_uri": "https://localhost:8080/"
        },
        "id": "7cDGg5MNm4vi",
        "outputId": "931a4c58-24b0-41a9-fe23-062bfeef122d"
      },
      "execution_count": 12,
      "outputs": [
        {
          "output_type": "stream",
          "name": "stdout",
          "text": [
            "[1, 2, 2, 3, 4, 5]\n"
          ]
        }
      ]
    },
    {
      "cell_type": "code",
      "source": [
        "# Pop Method\n",
        "# assign list\n",
        "numbers = [1, 2, 3, 2, 3, 4, 5]\n",
        "\n",
        "# use remove()\n",
        "numbers.pop(3)\n",
        "\n",
        "# display list\n",
        "print(numbers)"
      ],
      "metadata": {
        "colab": {
          "base_uri": "https://localhost:8080/"
        },
        "id": "kchDPP_joL41",
        "outputId": "4a8f7aec-6584-46d6-e93e-71cd8f357a11"
      },
      "execution_count": 13,
      "outputs": [
        {
          "output_type": "stream",
          "name": "stdout",
          "text": [
            "[1, 2, 3, 3, 4, 5]\n"
          ]
        }
      ]
    },
    {
      "cell_type": "markdown",
      "source": [
        "## Question 12\n",
        "\n",
        "Describe how list values and string values are identical.\n",
        "\n",
        "Answer:\n",
        "\n",
        "***Similarity***\n",
        "- List values and string values are similar in the sense that they both can contain multiple items.\n",
        "- Both lists and strings can be accessed using indexing and slicing.\n",
        "\n",
        "***Differences***\n",
        "- They differ in their mutability and the types of elements they can contain.\n",
        "- Lists are mutable, meaning their elements can be modified, added, or removed.\n",
        "- Strings, on the other hand, are immutable, so their individual characters cannot be changed once the string is created."
      ],
      "metadata": {
        "id": "vGFgLnJ1oTuP"
      }
    },
    {
      "cell_type": "markdown",
      "source": [
        "## Question 13\n",
        "\n",
        "What's the difference between tuples and lists?\n",
        "\n",
        "Answer:\n",
        "\n",
        "Tuples and lists are both used to store collections of items in Python, but they have some key differences:\n",
        "\n",
        "- Tuples are immutable, meaning their elements cannot be modified after creation, while lists are mutable.\n",
        "- Tuples are typically used to represent collections of related values, whereas - Lists are more commonly used for dynamic or changing collections.\n",
        "- Lists use square brackets [] to enclose their elements, while tuples use parentheses ().\n",
        "- Lists have a variety of methods for modification, whereas tuples have fewer methods due to their immutability."
      ],
      "metadata": {
        "id": "Db-Tqfg8pe2j"
      }
    },
    {
      "cell_type": "markdown",
      "source": [
        "## Question 14\n",
        "\n",
        "How do you type a tuple value that only contains the integer 42?\n",
        "\n",
        "Answer:\n",
        "\n",
        "In order to create a tuple that contains only the integer 42, we use parentheses `()`:\n",
        "```\n",
        "my_tuple = (42,)\n",
        "```\n",
        "The** trailing comma** is necessary to indicate that it is a tuple with a single element. Otherwise, it would be interpreted as an integer in this case."
      ],
      "metadata": {
        "id": "EIOM9ixDprKN"
      }
    },
    {
      "cell_type": "code",
      "source": [
        "single_ele_tuple = (42,)\n",
        "print(single_ele_tuple)"
      ],
      "metadata": {
        "colab": {
          "base_uri": "https://localhost:8080/"
        },
        "id": "FsEE61l5oQcI",
        "outputId": "fa3eb4ad-64d2-4052-a9b2-b7533a24795f"
      },
      "execution_count": 14,
      "outputs": [
        {
          "output_type": "stream",
          "name": "stdout",
          "text": [
            "(42,)\n"
          ]
        }
      ]
    },
    {
      "cell_type": "markdown",
      "source": [
        "## Question 15\n",
        "\n",
        "How do you get a list value's tuple form? How do you get a tuple value's list form?\n",
        "\n",
        "Answer:\n",
        "\n",
        "To convert a list to its tuple form, we can use the `tuple()` function:\n",
        "```\n",
        "my_list = [1, 2, 3]\n",
        "my_tuple = tuple(my_list)\n",
        "```\n",
        "\n",
        "To convert a tuple to its list form, we can use the `list()` function:\n",
        "```\n",
        "my_tuple = (1, 2, 3)\n",
        "my_list = list(my_tuple)\n",
        "```"
      ],
      "metadata": {
        "id": "B28BMoAXp8tc"
      }
    },
    {
      "cell_type": "code",
      "source": [
        "# List to tuple\n",
        "my_list = [1, 2, 3]\n",
        "my_tuple = tuple(my_list)\n",
        "print(my_tuple)"
      ],
      "metadata": {
        "colab": {
          "base_uri": "https://localhost:8080/"
        },
        "id": "y2PErRRwp78q",
        "outputId": "2057f8c2-ae7b-4134-9578-4e40f3917d67"
      },
      "execution_count": 15,
      "outputs": [
        {
          "output_type": "stream",
          "name": "stdout",
          "text": [
            "(1, 2, 3)\n"
          ]
        }
      ]
    },
    {
      "cell_type": "code",
      "source": [
        "# Tuple to List\n",
        "my_tuple = (1, 2, 3)\n",
        "my_list = list(my_tuple)\n",
        "print(my_list)"
      ],
      "metadata": {
        "colab": {
          "base_uri": "https://localhost:8080/"
        },
        "id": "H6Qbq-JzqSAC",
        "outputId": "d5224739-6682-423e-ae16-c78e35a1adc0"
      },
      "execution_count": 16,
      "outputs": [
        {
          "output_type": "stream",
          "name": "stdout",
          "text": [
            "[1, 2, 3]\n"
          ]
        }
      ]
    },
    {
      "cell_type": "markdown",
      "source": [
        "## Question 16\n",
        "\n",
        "Variables that \"contain\"  list values are not necessarily lists themselves. Instead, what do they contain?\n",
        "\n",
        "Answer:\n",
        "\n",
        "- Variables that contain list values in Python actually store references to the list object in memory.\n",
        "- They are not the list themselves, but rather references or pointers to the list.\n",
        "- This means that multiple variables can refer to the same list object, and modifying the list through one variable will be reflected in all other variables referencing the same list."
      ],
      "metadata": {
        "id": "EMsK4m-KqWKj"
      }
    },
    {
      "cell_type": "markdown",
      "source": [
        "## Question 17\n",
        "\n",
        "How do you distinguish between `copy.copy()` and `copy.deepcopy()`?\n"
      ],
      "metadata": {
        "id": "1h8S2Ql0qjag"
      }
    },
    {
      "cell_type": "markdown",
      "source": [
        "### Shallow Copy\n",
        "\n",
        "The `copy.copy()` function creates a shallow copy of a list, which means that the top-level elements of the list are copied, but if the list contains nested objects (like other lists), the references to those nested objects are still shared between the original list and the copied list."
      ],
      "metadata": {
        "id": "6AmONQ90roU8"
      }
    },
    {
      "cell_type": "code",
      "source": [
        "import copy\n",
        "\n",
        "old_list = [[1, 2, 3], [4, 5, 6], [7, 8, 9]]\n",
        "new_list = copy.copy(old_list)\n",
        "\n",
        "print(\"Old list:\", old_list)\n",
        "print(\"New list:\", new_list)"
      ],
      "metadata": {
        "colab": {
          "base_uri": "https://localhost:8080/"
        },
        "id": "uY3LvTlMqU84",
        "outputId": "7f1f0554-6af6-429b-f373-3163a19229e6"
      },
      "execution_count": 17,
      "outputs": [
        {
          "output_type": "stream",
          "name": "stdout",
          "text": [
            "Old list: [[1, 2, 3], [4, 5, 6], [7, 8, 9]]\n",
            "New list: [[1, 2, 3], [4, 5, 6], [7, 8, 9]]\n"
          ]
        }
      ]
    },
    {
      "cell_type": "markdown",
      "source": [
        "In above program, we created a nested list and then shallow copy it using copy() method.\n",
        "\n",
        "This means it will create new and independent object with same content. To verify this, we print the both old_list and new_list.\n",
        "\n",
        "To confirm that new_list is different from old_list, we try to add new nested object to original and check it."
      ],
      "metadata": {
        "id": "chY0bQ8ErQoT"
      }
    },
    {
      "cell_type": "code",
      "source": [
        "old_list = [[1, 1, 1], [2, 2, 2], [3, 3, 3]]\n",
        "new_list = copy.copy(old_list)\n",
        "\n",
        "old_list.append([4, 4, 4])\n",
        "\n",
        "print(\"Old list:\", old_list)\n",
        "print(\"New list:\", new_list)"
      ],
      "metadata": {
        "colab": {
          "base_uri": "https://localhost:8080/"
        },
        "id": "hm8yARNOrNHs",
        "outputId": "aaed57a5-82d8-4ee6-9d60-017365a8d4e5"
      },
      "execution_count": 18,
      "outputs": [
        {
          "output_type": "stream",
          "name": "stdout",
          "text": [
            "Old list: [[1, 1, 1], [2, 2, 2], [3, 3, 3], [4, 4, 4]]\n",
            "New list: [[1, 1, 1], [2, 2, 2], [3, 3, 3]]\n"
          ]
        }
      ]
    },
    {
      "cell_type": "markdown",
      "source": [
        "In the above program, we created a shallow copy of old_list. The new_list contains references to original nested objects stored in old_list. Then we add the new list i.e [4, 4, 4] into old_list. This new sublist was not copied in new_list.\n",
        "\n",
        "However, when you change any nested objects in old_list, the changes appear in new_list."
      ],
      "metadata": {
        "id": "8gMzspsbrWUY"
      }
    },
    {
      "cell_type": "code",
      "source": [
        "old_list = [[1, 1, 1], [2, 2, 2], [3, 3, 3]]\n",
        "new_list = copy.copy(old_list)\n",
        "\n",
        "old_list[1][1] = 'iNeuron'\n",
        "\n",
        "print(\"Old list:\", old_list)\n",
        "print(\"New list:\", new_list)"
      ],
      "metadata": {
        "colab": {
          "base_uri": "https://localhost:8080/"
        },
        "id": "-cJ_cbTHrT-t",
        "outputId": "bafd3835-95ef-48c1-834a-93f4bb133ebd"
      },
      "execution_count": 19,
      "outputs": [
        {
          "output_type": "stream",
          "name": "stdout",
          "text": [
            "Old list: [[1, 1, 1], [2, 'iNeuron', 2], [3, 3, 3]]\n",
            "New list: [[1, 1, 1], [2, 'iNeuron', 2], [3, 3, 3]]\n"
          ]
        }
      ]
    },
    {
      "cell_type": "markdown",
      "source": [
        "In the above program, we made changes to old_list i.e old_list[1][1] = 'iNeuron'. Both sublists of old_list and new_list at index [1][1] were modified. This is because, both lists share the reference of same nested objects."
      ],
      "metadata": {
        "id": "ajw5liLvrfNP"
      }
    },
    {
      "cell_type": "markdown",
      "source": [
        "### Deep Copy\n",
        "\n",
        "On the other hand, `copy.deepcopy()` creates a deep copy of a list, including all nested objects. It recursively copies all the nested objects, ensuring that the copied list is entirely independent of the original list. Modifying the deep copy will not affect the original list or any of its nested objects."
      ],
      "metadata": {
        "id": "Iu9f_VqqrvYx"
      }
    },
    {
      "cell_type": "code",
      "source": [
        "old_list = [[1, 1, 1], [2, 2, 2], [3, 3, 3]]\n",
        "new_list = copy.deepcopy(old_list)\n",
        "\n",
        "print(\"Old list:\", old_list)\n",
        "print(\"New list:\", new_list)"
      ],
      "metadata": {
        "colab": {
          "base_uri": "https://localhost:8080/"
        },
        "id": "5OgDEyzorcK-",
        "outputId": "e832b979-e616-41e6-8380-5681950f9a74"
      },
      "execution_count": 20,
      "outputs": [
        {
          "output_type": "stream",
          "name": "stdout",
          "text": [
            "Old list: [[1, 1, 1], [2, 2, 2], [3, 3, 3]]\n",
            "New list: [[1, 1, 1], [2, 2, 2], [3, 3, 3]]\n"
          ]
        }
      ]
    },
    {
      "cell_type": "markdown",
      "source": [
        "In the above program, we use deepcopy() function to create copy which looks similar.\n",
        "\n",
        "However, if you make changes to any nested objects in original object old_list, we will see no changes to the copy new_list."
      ],
      "metadata": {
        "id": "smd1L1Hor5Br"
      }
    },
    {
      "cell_type": "code",
      "source": [
        "old_list = [[1, 1, 1], [2, 2, 2], [3, 3, 3]]\n",
        "new_list = copy.deepcopy(old_list)\n",
        "\n",
        "old_list[1][0] = 'iNeuron'\n",
        "\n",
        "print(\"Old list:\", old_list)\n",
        "print(\"New list:\", new_list)"
      ],
      "metadata": {
        "colab": {
          "base_uri": "https://localhost:8080/"
        },
        "id": "zT4vyBP5r0Vg",
        "outputId": "eff909dc-8bf6-4fdd-9eac-63e3d9e79f5d"
      },
      "execution_count": 21,
      "outputs": [
        {
          "output_type": "stream",
          "name": "stdout",
          "text": [
            "Old list: [[1, 1, 1], ['iNeuron', 2, 2], [3, 3, 3]]\n",
            "New list: [[1, 1, 1], [2, 2, 2], [3, 3, 3]]\n"
          ]
        }
      ]
    },
    {
      "cell_type": "markdown",
      "source": [
        "In the above program, when we assign a new value to `old_list`, we can see only the `old_list` is modified. This means, both the `old_list` and the `new_list` are independent. This is because the `old_list` was recursively copied, which is true for all its nested objects."
      ],
      "metadata": {
        "id": "zAyHtrn2sAf4"
      }
    },
    {
      "cell_type": "code",
      "source": [],
      "metadata": {
        "id": "EvDmdheHr-tI"
      },
      "execution_count": null,
      "outputs": []
    }
  ]
}